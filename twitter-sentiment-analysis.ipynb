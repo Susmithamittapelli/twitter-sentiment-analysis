{
 "cells": [
  {
   "cell_type": "code",
   "execution_count": 1,
   "id": "864f9bf6",
   "metadata": {
    "_cell_guid": "b1076dfc-b9ad-4769-8c92-a6c4dae69d19",
    "_uuid": "8f2839f25d086af736a60e9eeb907d3b93b6e0e5",
    "execution": {
     "iopub.execute_input": "2022-03-04T06:42:56.618331Z",
     "iopub.status.busy": "2022-03-04T06:42:56.617485Z",
     "iopub.status.idle": "2022-03-04T06:42:56.629008Z",
     "shell.execute_reply": "2022-03-04T06:42:56.628449Z"
    },
    "papermill": {
     "duration": 0.049319,
     "end_time": "2022-03-04T06:42:56.629155",
     "exception": false,
     "start_time": "2022-03-04T06:42:56.579836",
     "status": "completed"
    },
    "tags": []
   },
   "outputs": [
    {
     "name": "stdout",
     "output_type": "stream",
     "text": [
      "/kaggle/input/sentiment140/training.1600000.processed.noemoticon.csv\n"
     ]
    }
   ],
   "source": [
    "# This Python 3 environment comes with many helpful analytics libraries installed\n",
    "# It is defined by the kaggle/python Docker image: https://github.com/kaggle/docker-python\n",
    "# For example, here's several helpful packages to load\n",
    "\n",
    "import numpy as np # linear algebra\n",
    "import pandas as pd # data processing, CSV file I/O (e.g. pd.read_csv)\n",
    "\n",
    "# Input data files are available in the read-only \"../input/\" directory\n",
    "# For example, running this (by clicking run or pressing Shift+Enter) will list all files under the input directory\n",
    "\n",
    "import os\n",
    "for dirname, _, filenames in os.walk('/kaggle/input'):\n",
    "    for filename in filenames:\n",
    "        print(os.path.join(dirname, filename))\n",
    "\n",
    "# You can write up to 20GB to the current directory (/kaggle/working/) that gets preserved as output when you create a version using \"Save & Run All\" \n",
    "# You can also write temporary files to /kaggle/temp/, but they won't be saved outside of the current session"
   ]
  },
  {
   "cell_type": "code",
   "execution_count": 2,
   "id": "c3e18861",
   "metadata": {
    "execution": {
     "iopub.execute_input": "2022-03-04T06:42:56.691081Z",
     "iopub.status.busy": "2022-03-04T06:42:56.690381Z",
     "iopub.status.idle": "2022-03-04T06:43:22.094736Z",
     "shell.execute_reply": "2022-03-04T06:43:22.095404Z",
     "shell.execute_reply.started": "2022-03-04T06:15:52.681928Z"
    },
    "papermill": {
     "duration": 25.438877,
     "end_time": "2022-03-04T06:43:22.095657",
     "exception": false,
     "start_time": "2022-03-04T06:42:56.656780",
     "status": "completed"
    },
    "tags": []
   },
   "outputs": [
    {
     "name": "stdout",
     "output_type": "stream",
     "text": [
      "[nltk_data] Error loading stopwords: <urlopen error [Errno -3]\n",
      "[nltk_data]     Temporary failure in name resolution>\n"
     ]
    }
   ],
   "source": [
    "import tensorflow as tf\n",
    "import matplotlib.pyplot as plt\n",
    "import pandas as pd\n",
    "import numpy as np\n",
    "\n",
    "import nltk\n",
    "nltk.download('stopwords')\n",
    "from nltk.corpus import stopwords\n",
    "from nltk.stem import SnowballStemmer\n",
    "\n",
    "from sklearn.model_selection import train_test_split\n",
    "from sklearn.preprocessing import LabelEncoder\n",
    "\n",
    "import re\n"
   ]
  },
  {
   "cell_type": "code",
   "execution_count": 3,
   "id": "94e94572",
   "metadata": {
    "execution": {
     "iopub.execute_input": "2022-03-04T06:43:22.203485Z",
     "iopub.status.busy": "2022-03-04T06:43:22.202502Z",
     "iopub.status.idle": "2022-03-04T06:43:28.499723Z",
     "shell.execute_reply": "2022-03-04T06:43:28.500149Z",
     "shell.execute_reply.started": "2022-03-04T06:16:56.707860Z"
    },
    "papermill": {
     "duration": 6.354355,
     "end_time": "2022-03-04T06:43:28.500294",
     "exception": false,
     "start_time": "2022-03-04T06:43:22.145939",
     "status": "completed"
    },
    "tags": []
   },
   "outputs": [
    {
     "data": {
      "text/html": [
       "<div>\n",
       "<style scoped>\n",
       "    .dataframe tbody tr th:only-of-type {\n",
       "        vertical-align: middle;\n",
       "    }\n",
       "\n",
       "    .dataframe tbody tr th {\n",
       "        vertical-align: top;\n",
       "    }\n",
       "\n",
       "    .dataframe thead th {\n",
       "        text-align: right;\n",
       "    }\n",
       "</style>\n",
       "<table border=\"1\" class=\"dataframe\">\n",
       "  <thead>\n",
       "    <tr style=\"text-align: right;\">\n",
       "      <th></th>\n",
       "      <th>0</th>\n",
       "      <th>1</th>\n",
       "      <th>2</th>\n",
       "      <th>3</th>\n",
       "      <th>4</th>\n",
       "      <th>5</th>\n",
       "    </tr>\n",
       "  </thead>\n",
       "  <tbody>\n",
       "    <tr>\n",
       "      <th>0</th>\n",
       "      <td>0</td>\n",
       "      <td>1467810369</td>\n",
       "      <td>Mon Apr 06 22:19:45 PDT 2009</td>\n",
       "      <td>NO_QUERY</td>\n",
       "      <td>_TheSpecialOne_</td>\n",
       "      <td>@switchfoot http://twitpic.com/2y1zl - Awww, t...</td>\n",
       "    </tr>\n",
       "    <tr>\n",
       "      <th>1</th>\n",
       "      <td>0</td>\n",
       "      <td>1467810672</td>\n",
       "      <td>Mon Apr 06 22:19:49 PDT 2009</td>\n",
       "      <td>NO_QUERY</td>\n",
       "      <td>scotthamilton</td>\n",
       "      <td>is upset that he can't update his Facebook by ...</td>\n",
       "    </tr>\n",
       "    <tr>\n",
       "      <th>2</th>\n",
       "      <td>0</td>\n",
       "      <td>1467810917</td>\n",
       "      <td>Mon Apr 06 22:19:53 PDT 2009</td>\n",
       "      <td>NO_QUERY</td>\n",
       "      <td>mattycus</td>\n",
       "      <td>@Kenichan I dived many times for the ball. Man...</td>\n",
       "    </tr>\n",
       "    <tr>\n",
       "      <th>3</th>\n",
       "      <td>0</td>\n",
       "      <td>1467811184</td>\n",
       "      <td>Mon Apr 06 22:19:57 PDT 2009</td>\n",
       "      <td>NO_QUERY</td>\n",
       "      <td>ElleCTF</td>\n",
       "      <td>my whole body feels itchy and like its on fire</td>\n",
       "    </tr>\n",
       "    <tr>\n",
       "      <th>4</th>\n",
       "      <td>0</td>\n",
       "      <td>1467811193</td>\n",
       "      <td>Mon Apr 06 22:19:57 PDT 2009</td>\n",
       "      <td>NO_QUERY</td>\n",
       "      <td>Karoli</td>\n",
       "      <td>@nationwideclass no, it's not behaving at all....</td>\n",
       "    </tr>\n",
       "    <tr>\n",
       "      <th>5</th>\n",
       "      <td>0</td>\n",
       "      <td>1467811372</td>\n",
       "      <td>Mon Apr 06 22:20:00 PDT 2009</td>\n",
       "      <td>NO_QUERY</td>\n",
       "      <td>joy_wolf</td>\n",
       "      <td>@Kwesidei not the whole crew</td>\n",
       "    </tr>\n",
       "    <tr>\n",
       "      <th>6</th>\n",
       "      <td>0</td>\n",
       "      <td>1467811592</td>\n",
       "      <td>Mon Apr 06 22:20:03 PDT 2009</td>\n",
       "      <td>NO_QUERY</td>\n",
       "      <td>mybirch</td>\n",
       "      <td>Need a hug</td>\n",
       "    </tr>\n",
       "    <tr>\n",
       "      <th>7</th>\n",
       "      <td>0</td>\n",
       "      <td>1467811594</td>\n",
       "      <td>Mon Apr 06 22:20:03 PDT 2009</td>\n",
       "      <td>NO_QUERY</td>\n",
       "      <td>coZZ</td>\n",
       "      <td>@LOLTrish hey  long time no see! Yes.. Rains a...</td>\n",
       "    </tr>\n",
       "    <tr>\n",
       "      <th>8</th>\n",
       "      <td>0</td>\n",
       "      <td>1467811795</td>\n",
       "      <td>Mon Apr 06 22:20:05 PDT 2009</td>\n",
       "      <td>NO_QUERY</td>\n",
       "      <td>2Hood4Hollywood</td>\n",
       "      <td>@Tatiana_K nope they didn't have it</td>\n",
       "    </tr>\n",
       "    <tr>\n",
       "      <th>9</th>\n",
       "      <td>0</td>\n",
       "      <td>1467812025</td>\n",
       "      <td>Mon Apr 06 22:20:09 PDT 2009</td>\n",
       "      <td>NO_QUERY</td>\n",
       "      <td>mimismo</td>\n",
       "      <td>@twittera que me muera ?</td>\n",
       "    </tr>\n",
       "  </tbody>\n",
       "</table>\n",
       "</div>"
      ],
      "text/plain": [
       "   0           1                             2         3                4  \\\n",
       "0  0  1467810369  Mon Apr 06 22:19:45 PDT 2009  NO_QUERY  _TheSpecialOne_   \n",
       "1  0  1467810672  Mon Apr 06 22:19:49 PDT 2009  NO_QUERY    scotthamilton   \n",
       "2  0  1467810917  Mon Apr 06 22:19:53 PDT 2009  NO_QUERY         mattycus   \n",
       "3  0  1467811184  Mon Apr 06 22:19:57 PDT 2009  NO_QUERY          ElleCTF   \n",
       "4  0  1467811193  Mon Apr 06 22:19:57 PDT 2009  NO_QUERY           Karoli   \n",
       "5  0  1467811372  Mon Apr 06 22:20:00 PDT 2009  NO_QUERY         joy_wolf   \n",
       "6  0  1467811592  Mon Apr 06 22:20:03 PDT 2009  NO_QUERY          mybirch   \n",
       "7  0  1467811594  Mon Apr 06 22:20:03 PDT 2009  NO_QUERY             coZZ   \n",
       "8  0  1467811795  Mon Apr 06 22:20:05 PDT 2009  NO_QUERY  2Hood4Hollywood   \n",
       "9  0  1467812025  Mon Apr 06 22:20:09 PDT 2009  NO_QUERY          mimismo   \n",
       "\n",
       "                                                   5  \n",
       "0  @switchfoot http://twitpic.com/2y1zl - Awww, t...  \n",
       "1  is upset that he can't update his Facebook by ...  \n",
       "2  @Kenichan I dived many times for the ball. Man...  \n",
       "3    my whole body feels itchy and like its on fire   \n",
       "4  @nationwideclass no, it's not behaving at all....  \n",
       "5                      @Kwesidei not the whole crew   \n",
       "6                                        Need a hug   \n",
       "7  @LOLTrish hey  long time no see! Yes.. Rains a...  \n",
       "8               @Tatiana_K nope they didn't have it   \n",
       "9                          @twittera que me muera ?   "
      ]
     },
     "execution_count": 3,
     "metadata": {},
     "output_type": "execute_result"
    }
   ],
   "source": [
    "df = pd.read_csv('../input/sentiment140/training.1600000.processed.noemoticon.csv', encoding = 'latin', header= None)\n",
    "df.head(10)"
   ]
  },
  {
   "cell_type": "code",
   "execution_count": 4,
   "id": "aaf3bb4e",
   "metadata": {
    "execution": {
     "iopub.execute_input": "2022-03-04T06:43:28.562807Z",
     "iopub.status.busy": "2022-03-04T06:43:28.562252Z",
     "iopub.status.idle": "2022-03-04T06:43:28.567826Z",
     "shell.execute_reply": "2022-03-04T06:43:28.567357Z",
     "shell.execute_reply.started": "2022-03-04T06:17:04.292263Z"
    },
    "papermill": {
     "duration": 0.041242,
     "end_time": "2022-03-04T06:43:28.567948",
     "exception": false,
     "start_time": "2022-03-04T06:43:28.526706",
     "status": "completed"
    },
    "tags": []
   },
   "outputs": [
    {
     "data": {
      "text/html": [
       "<div>\n",
       "<style scoped>\n",
       "    .dataframe tbody tr th:only-of-type {\n",
       "        vertical-align: middle;\n",
       "    }\n",
       "\n",
       "    .dataframe tbody tr th {\n",
       "        vertical-align: top;\n",
       "    }\n",
       "\n",
       "    .dataframe thead th {\n",
       "        text-align: right;\n",
       "    }\n",
       "</style>\n",
       "<table border=\"1\" class=\"dataframe\">\n",
       "  <thead>\n",
       "    <tr style=\"text-align: right;\">\n",
       "      <th></th>\n",
       "      <th>sentiment</th>\n",
       "      <th>id</th>\n",
       "      <th>date</th>\n",
       "      <th>query</th>\n",
       "      <th>user_id</th>\n",
       "      <th>text</th>\n",
       "    </tr>\n",
       "  </thead>\n",
       "  <tbody>\n",
       "    <tr>\n",
       "      <th>0</th>\n",
       "      <td>0</td>\n",
       "      <td>1467810369</td>\n",
       "      <td>Mon Apr 06 22:19:45 PDT 2009</td>\n",
       "      <td>NO_QUERY</td>\n",
       "      <td>_TheSpecialOne_</td>\n",
       "      <td>@switchfoot http://twitpic.com/2y1zl - Awww, t...</td>\n",
       "    </tr>\n",
       "    <tr>\n",
       "      <th>1</th>\n",
       "      <td>0</td>\n",
       "      <td>1467810672</td>\n",
       "      <td>Mon Apr 06 22:19:49 PDT 2009</td>\n",
       "      <td>NO_QUERY</td>\n",
       "      <td>scotthamilton</td>\n",
       "      <td>is upset that he can't update his Facebook by ...</td>\n",
       "    </tr>\n",
       "    <tr>\n",
       "      <th>2</th>\n",
       "      <td>0</td>\n",
       "      <td>1467810917</td>\n",
       "      <td>Mon Apr 06 22:19:53 PDT 2009</td>\n",
       "      <td>NO_QUERY</td>\n",
       "      <td>mattycus</td>\n",
       "      <td>@Kenichan I dived many times for the ball. Man...</td>\n",
       "    </tr>\n",
       "    <tr>\n",
       "      <th>3</th>\n",
       "      <td>0</td>\n",
       "      <td>1467811184</td>\n",
       "      <td>Mon Apr 06 22:19:57 PDT 2009</td>\n",
       "      <td>NO_QUERY</td>\n",
       "      <td>ElleCTF</td>\n",
       "      <td>my whole body feels itchy and like its on fire</td>\n",
       "    </tr>\n",
       "    <tr>\n",
       "      <th>4</th>\n",
       "      <td>0</td>\n",
       "      <td>1467811193</td>\n",
       "      <td>Mon Apr 06 22:19:57 PDT 2009</td>\n",
       "      <td>NO_QUERY</td>\n",
       "      <td>Karoli</td>\n",
       "      <td>@nationwideclass no, it's not behaving at all....</td>\n",
       "    </tr>\n",
       "  </tbody>\n",
       "</table>\n",
       "</div>"
      ],
      "text/plain": [
       "   sentiment          id                          date     query  \\\n",
       "0          0  1467810369  Mon Apr 06 22:19:45 PDT 2009  NO_QUERY   \n",
       "1          0  1467810672  Mon Apr 06 22:19:49 PDT 2009  NO_QUERY   \n",
       "2          0  1467810917  Mon Apr 06 22:19:53 PDT 2009  NO_QUERY   \n",
       "3          0  1467811184  Mon Apr 06 22:19:57 PDT 2009  NO_QUERY   \n",
       "4          0  1467811193  Mon Apr 06 22:19:57 PDT 2009  NO_QUERY   \n",
       "\n",
       "           user_id                                               text  \n",
       "0  _TheSpecialOne_  @switchfoot http://twitpic.com/2y1zl - Awww, t...  \n",
       "1    scotthamilton  is upset that he can't update his Facebook by ...  \n",
       "2         mattycus  @Kenichan I dived many times for the ball. Man...  \n",
       "3          ElleCTF    my whole body feels itchy and like its on fire   \n",
       "4           Karoli  @nationwideclass no, it's not behaving at all....  "
      ]
     },
     "execution_count": 4,
     "metadata": {},
     "output_type": "execute_result"
    }
   ],
   "source": [
    "df.columns =['sentiment', 'id', 'date', 'query', 'user_id', 'text']\n",
    "df.head()"
   ]
  },
  {
   "cell_type": "code",
   "execution_count": 5,
   "id": "e95da910",
   "metadata": {
    "execution": {
     "iopub.execute_input": "2022-03-04T06:43:28.636160Z",
     "iopub.status.busy": "2022-03-04T06:43:28.635372Z",
     "iopub.status.idle": "2022-03-04T06:43:28.670255Z",
     "shell.execute_reply": "2022-03-04T06:43:28.670705Z",
     "shell.execute_reply.started": "2022-03-04T06:17:07.820123Z"
    },
    "papermill": {
     "duration": 0.074497,
     "end_time": "2022-03-04T06:43:28.670864",
     "exception": false,
     "start_time": "2022-03-04T06:43:28.596367",
     "status": "completed"
    },
    "tags": []
   },
   "outputs": [
    {
     "data": {
      "text/html": [
       "<div>\n",
       "<style scoped>\n",
       "    .dataframe tbody tr th:only-of-type {\n",
       "        vertical-align: middle;\n",
       "    }\n",
       "\n",
       "    .dataframe tbody tr th {\n",
       "        vertical-align: top;\n",
       "    }\n",
       "\n",
       "    .dataframe thead th {\n",
       "        text-align: right;\n",
       "    }\n",
       "</style>\n",
       "<table border=\"1\" class=\"dataframe\">\n",
       "  <thead>\n",
       "    <tr style=\"text-align: right;\">\n",
       "      <th></th>\n",
       "      <th>sentiment</th>\n",
       "      <th>text</th>\n",
       "    </tr>\n",
       "  </thead>\n",
       "  <tbody>\n",
       "    <tr>\n",
       "      <th>0</th>\n",
       "      <td>0</td>\n",
       "      <td>@switchfoot http://twitpic.com/2y1zl - Awww, t...</td>\n",
       "    </tr>\n",
       "    <tr>\n",
       "      <th>1</th>\n",
       "      <td>0</td>\n",
       "      <td>is upset that he can't update his Facebook by ...</td>\n",
       "    </tr>\n",
       "    <tr>\n",
       "      <th>2</th>\n",
       "      <td>0</td>\n",
       "      <td>@Kenichan I dived many times for the ball. Man...</td>\n",
       "    </tr>\n",
       "    <tr>\n",
       "      <th>3</th>\n",
       "      <td>0</td>\n",
       "      <td>my whole body feels itchy and like its on fire</td>\n",
       "    </tr>\n",
       "    <tr>\n",
       "      <th>4</th>\n",
       "      <td>0</td>\n",
       "      <td>@nationwideclass no, it's not behaving at all....</td>\n",
       "    </tr>\n",
       "  </tbody>\n",
       "</table>\n",
       "</div>"
      ],
      "text/plain": [
       "   sentiment                                               text\n",
       "0          0  @switchfoot http://twitpic.com/2y1zl - Awww, t...\n",
       "1          0  is upset that he can't update his Facebook by ...\n",
       "2          0  @Kenichan I dived many times for the ball. Man...\n",
       "3          0    my whole body feels itchy and like its on fire \n",
       "4          0  @nationwideclass no, it's not behaving at all...."
      ]
     },
     "execution_count": 5,
     "metadata": {},
     "output_type": "execute_result"
    }
   ],
   "source": [
    "df = df.drop(['id', 'date', 'query', 'user_id'],axis = 1)\n",
    "df.head()"
   ]
  },
  {
   "cell_type": "code",
   "execution_count": 6,
   "id": "9ec8a9b2",
   "metadata": {
    "execution": {
     "iopub.execute_input": "2022-03-04T06:43:28.773637Z",
     "iopub.status.busy": "2022-03-04T06:43:28.765778Z",
     "iopub.status.idle": "2022-03-04T06:43:29.186319Z",
     "shell.execute_reply": "2022-03-04T06:43:29.186735Z",
     "shell.execute_reply.started": "2022-03-04T06:17:11.661105Z"
    },
    "papermill": {
     "duration": 0.489118,
     "end_time": "2022-03-04T06:43:29.186904",
     "exception": false,
     "start_time": "2022-03-04T06:43:28.697786",
     "status": "completed"
    },
    "tags": []
   },
   "outputs": [
    {
     "data": {
      "text/html": [
       "<div>\n",
       "<style scoped>\n",
       "    .dataframe tbody tr th:only-of-type {\n",
       "        vertical-align: middle;\n",
       "    }\n",
       "\n",
       "    .dataframe tbody tr th {\n",
       "        vertical-align: top;\n",
       "    }\n",
       "\n",
       "    .dataframe thead th {\n",
       "        text-align: right;\n",
       "    }\n",
       "</style>\n",
       "<table border=\"1\" class=\"dataframe\">\n",
       "  <thead>\n",
       "    <tr style=\"text-align: right;\">\n",
       "      <th></th>\n",
       "      <th>sentiment</th>\n",
       "      <th>text</th>\n",
       "    </tr>\n",
       "  </thead>\n",
       "  <tbody>\n",
       "    <tr>\n",
       "      <th>0</th>\n",
       "      <td>Negative</td>\n",
       "      <td>@switchfoot http://twitpic.com/2y1zl - Awww, t...</td>\n",
       "    </tr>\n",
       "    <tr>\n",
       "      <th>1</th>\n",
       "      <td>Negative</td>\n",
       "      <td>is upset that he can't update his Facebook by ...</td>\n",
       "    </tr>\n",
       "    <tr>\n",
       "      <th>2</th>\n",
       "      <td>Negative</td>\n",
       "      <td>@Kenichan I dived many times for the ball. Man...</td>\n",
       "    </tr>\n",
       "    <tr>\n",
       "      <th>3</th>\n",
       "      <td>Negative</td>\n",
       "      <td>my whole body feels itchy and like its on fire</td>\n",
       "    </tr>\n",
       "    <tr>\n",
       "      <th>4</th>\n",
       "      <td>Negative</td>\n",
       "      <td>@nationwideclass no, it's not behaving at all....</td>\n",
       "    </tr>\n",
       "  </tbody>\n",
       "</table>\n",
       "</div>"
      ],
      "text/plain": [
       "  sentiment                                               text\n",
       "0  Negative  @switchfoot http://twitpic.com/2y1zl - Awww, t...\n",
       "1  Negative  is upset that he can't update his Facebook by ...\n",
       "2  Negative  @Kenichan I dived many times for the ball. Man...\n",
       "3  Negative    my whole body feels itchy and like its on fire \n",
       "4  Negative  @nationwideclass no, it's not behaving at all...."
      ]
     },
     "execution_count": 6,
     "metadata": {},
     "output_type": "execute_result"
    }
   ],
   "source": [
    "to_sentiment = {0:'Negative', 4 : 'Positive'}\n",
    "def label_decoder(label):\n",
    "    return to_sentiment[label]\n",
    "\n",
    "df.sentiment = df.sentiment.apply(lambda x : label_decoder(x))\n",
    "df.head()"
   ]
  },
  {
   "cell_type": "code",
   "execution_count": 7,
   "id": "f5e57aa6",
   "metadata": {
    "execution": {
     "iopub.execute_input": "2022-03-04T06:43:29.254040Z",
     "iopub.status.busy": "2022-03-04T06:43:29.253154Z",
     "iopub.status.idle": "2022-03-04T06:43:31.403372Z",
     "shell.execute_reply": "2022-03-04T06:43:31.403944Z",
     "shell.execute_reply.started": "2022-03-04T06:18:04.549137Z"
    },
    "papermill": {
     "duration": 2.188906,
     "end_time": "2022-03-04T06:43:31.404101",
     "exception": false,
     "start_time": "2022-03-04T06:43:29.215195",
     "status": "completed"
    },
    "tags": []
   },
   "outputs": [
    {
     "name": "stderr",
     "output_type": "stream",
     "text": [
      "/opt/conda/lib/python3.7/site-packages/seaborn/_decorators.py:43: FutureWarning: Pass the following variable as a keyword arg: x. From version 0.12, the only valid positional argument will be `data`, and passing other arguments without an explicit keyword will result in an error or misinterpretation.\n",
      "  FutureWarning\n"
     ]
    },
    {
     "data": {
      "text/plain": [
       "<AxesSubplot:xlabel='sentiment', ylabel='count'>"
      ]
     },
     "execution_count": 7,
     "metadata": {},
     "output_type": "execute_result"
    },
    {
     "data": {
      "image/png": "[encoded data removed]",
      "text/plain": [
       "<Figure size 600x400 with 1 Axes>"
      ]
     },
     "metadata": {
      "needs_background": "light"
     },
     "output_type": "display_data"
    }
   ],
   "source": [
    "import seaborn as sns\n",
    "plt.figure(dpi = 100)\n",
    "sns.countplot(df['sentiment'])"
   ]
  },
  {
   "cell_type": "code",
   "execution_count": 8,
   "id": "c35579f7",
   "metadata": {
    "execution": {
     "iopub.execute_input": "2022-03-04T06:43:31.474447Z",
     "iopub.status.busy": "2022-03-04T06:43:31.473775Z",
     "iopub.status.idle": "2022-03-04T06:43:31.481433Z",
     "shell.execute_reply": "2022-03-04T06:43:31.480883Z",
     "shell.execute_reply.started": "2022-03-04T06:18:23.447963Z"
    },
    "papermill": {
     "duration": 0.045493,
     "end_time": "2022-03-04T06:43:31.481596",
     "exception": false,
     "start_time": "2022-03-04T06:43:31.436103",
     "status": "completed"
    },
    "tags": []
   },
   "outputs": [],
   "source": [
    "stop_words = stopwords.words('english')\n",
    "stemmer = SnowballStemmer('english')\n",
    "\n",
    "text_cleaning_re = \"@\\S+|https?:\\S+|http?:\\S|[^A-Za-z0-9]+\""
   ]
  },
  {
   "cell_type": "code",
   "execution_count": 9,
   "id": "c556b0f0",
   "metadata": {
    "execution": {
     "iopub.execute_input": "2022-03-04T06:43:31.553441Z",
     "iopub.status.busy": "2022-03-04T06:43:31.551837Z",
     "iopub.status.idle": "2022-03-04T06:43:31.554101Z",
     "shell.execute_reply": "2022-03-04T06:43:31.554536Z",
     "shell.execute_reply.started": "2022-03-04T06:18:49.482221Z"
    },
    "papermill": {
     "duration": 0.041266,
     "end_time": "2022-03-04T06:43:31.554721",
     "exception": false,
     "start_time": "2022-03-04T06:43:31.513455",
     "status": "completed"
    },
    "tags": []
   },
   "outputs": [],
   "source": [
    "def preprocess(text, stem = False):\n",
    "    text = re.sub(text_cleaning_re, ' ', str(text).lower()).strip()\n",
    "    tokens = []\n",
    "    for token in text.split():\n",
    "        if token not in stop_words:\n",
    "            if stem:\n",
    "                tokens.append(stemmer.stem(token))\n",
    "            else:\n",
    "                tokens.append(token)\n",
    "    return ' '.join(tokens)"
   ]
  },
  {
   "cell_type": "code",
   "execution_count": 10,
   "id": "1c80e3d5",
   "metadata": {
    "execution": {
     "iopub.execute_input": "2022-03-04T06:43:31.626420Z",
     "iopub.status.busy": "2022-03-04T06:43:31.625252Z",
     "iopub.status.idle": "2022-03-04T06:44:25.328849Z",
     "shell.execute_reply": "2022-03-04T06:44:25.329361Z",
     "shell.execute_reply.started": "2022-03-04T06:19:03.889108Z"
    },
    "papermill": {
     "duration": 53.741979,
     "end_time": "2022-03-04T06:44:25.329548",
     "exception": false,
     "start_time": "2022-03-04T06:43:31.587569",
     "status": "completed"
    },
    "tags": []
   },
   "outputs": [
    {
     "data": {
      "text/html": [
       "<div>\n",
       "<style scoped>\n",
       "    .dataframe tbody tr th:only-of-type {\n",
       "        vertical-align: middle;\n",
       "    }\n",
       "\n",
       "    .dataframe tbody tr th {\n",
       "        vertical-align: top;\n",
       "    }\n",
       "\n",
       "    .dataframe thead th {\n",
       "        text-align: right;\n",
       "    }\n",
       "</style>\n",
       "<table border=\"1\" class=\"dataframe\">\n",
       "  <thead>\n",
       "    <tr style=\"text-align: right;\">\n",
       "      <th></th>\n",
       "      <th>sentiment</th>\n",
       "      <th>text</th>\n",
       "    </tr>\n",
       "  </thead>\n",
       "  <tbody>\n",
       "    <tr>\n",
       "      <th>0</th>\n",
       "      <td>Negative</td>\n",
       "      <td>awww bummer shoulda got david carr third day</td>\n",
       "    </tr>\n",
       "    <tr>\n",
       "      <th>1</th>\n",
       "      <td>Negative</td>\n",
       "      <td>upset update facebook texting might cry result...</td>\n",
       "    </tr>\n",
       "    <tr>\n",
       "      <th>2</th>\n",
       "      <td>Negative</td>\n",
       "      <td>dived many times ball managed save 50 rest go ...</td>\n",
       "    </tr>\n",
       "    <tr>\n",
       "      <th>3</th>\n",
       "      <td>Negative</td>\n",
       "      <td>whole body feels itchy like fire</td>\n",
       "    </tr>\n",
       "    <tr>\n",
       "      <th>4</th>\n",
       "      <td>Negative</td>\n",
       "      <td>behaving mad see</td>\n",
       "    </tr>\n",
       "  </tbody>\n",
       "</table>\n",
       "</div>"
      ],
      "text/plain": [
       "  sentiment                                               text\n",
       "0  Negative       awww bummer shoulda got david carr third day\n",
       "1  Negative  upset update facebook texting might cry result...\n",
       "2  Negative  dived many times ball managed save 50 rest go ...\n",
       "3  Negative                   whole body feels itchy like fire\n",
       "4  Negative                                   behaving mad see"
      ]
     },
     "execution_count": 10,
     "metadata": {},
     "output_type": "execute_result"
    }
   ],
   "source": [
    "df.text = df.text.apply(lambda x : preprocess(x))\n",
    "df.head()"
   ]
  },
  {
   "cell_type": "code",
   "execution_count": 11,
   "id": "14590027",
   "metadata": {
    "execution": {
     "iopub.execute_input": "2022-03-04T06:44:25.437029Z",
     "iopub.status.busy": "2022-03-04T06:44:25.436159Z",
     "iopub.status.idle": "2022-03-04T06:44:25.437984Z",
     "shell.execute_reply": "2022-03-04T06:44:25.438463Z",
     "shell.execute_reply.started": "2022-03-04T06:20:14.508925Z"
    },
    "papermill": {
     "duration": 0.061667,
     "end_time": "2022-03-04T06:44:25.438627",
     "exception": false,
     "start_time": "2022-03-04T06:44:25.376960",
     "status": "completed"
    },
    "tags": []
   },
   "outputs": [],
   "source": [
    "TRAIN_SIZE = 0.8\n",
    "MAX_NB_WORDS = 100000\n",
    "MAX_SEQ_LENGTH = 30"
   ]
  },
  {
   "cell_type": "code",
   "execution_count": 12,
   "id": "ebdcca82",
   "metadata": {
    "execution": {
     "iopub.execute_input": "2022-03-04T06:44:25.541688Z",
     "iopub.status.busy": "2022-03-04T06:44:25.540784Z",
     "iopub.status.idle": "2022-03-04T06:44:26.244807Z",
     "shell.execute_reply": "2022-03-04T06:44:26.245316Z",
     "shell.execute_reply.started": "2022-03-04T06:20:46.715872Z"
    },
    "papermill": {
     "duration": 0.758618,
     "end_time": "2022-03-04T06:44:26.245487",
     "exception": false,
     "start_time": "2022-03-04T06:44:25.486869",
     "status": "completed"
    },
    "tags": []
   },
   "outputs": [
    {
     "name": "stdout",
     "output_type": "stream",
     "text": [
      "Size of training data:  1280000\n",
      "Size of testing data:  320000\n"
     ]
    }
   ],
   "source": [
    "train_data, test_data = train_test_split(df, test_size = 1-TRAIN_SIZE, random_state = 5)\n",
    "print('Size of training data: ', len(train_data))\n",
    "print('Size of testing data: ', len(test_data))"
   ]
  },
  {
   "cell_type": "code",
   "execution_count": 13,
   "id": "c537f5d2",
   "metadata": {
    "execution": {
     "iopub.execute_input": "2022-03-04T06:44:26.321637Z",
     "iopub.status.busy": "2022-03-04T06:44:26.320960Z",
     "iopub.status.idle": "2022-03-04T06:44:26.324080Z",
     "shell.execute_reply": "2022-03-04T06:44:26.324474Z",
     "shell.execute_reply.started": "2022-03-04T06:21:01.287064Z"
    },
    "papermill": {
     "duration": 0.044945,
     "end_time": "2022-03-04T06:44:26.324628",
     "exception": false,
     "start_time": "2022-03-04T06:44:26.279683",
     "status": "completed"
    },
    "tags": []
   },
   "outputs": [
    {
     "data": {
      "text/html": [
       "<div>\n",
       "<style scoped>\n",
       "    .dataframe tbody tr th:only-of-type {\n",
       "        vertical-align: middle;\n",
       "    }\n",
       "\n",
       "    .dataframe tbody tr th {\n",
       "        vertical-align: top;\n",
       "    }\n",
       "\n",
       "    .dataframe thead th {\n",
       "        text-align: right;\n",
       "    }\n",
       "</style>\n",
       "<table border=\"1\" class=\"dataframe\">\n",
       "  <thead>\n",
       "    <tr style=\"text-align: right;\">\n",
       "      <th></th>\n",
       "      <th>sentiment</th>\n",
       "      <th>text</th>\n",
       "    </tr>\n",
       "  </thead>\n",
       "  <tbody>\n",
       "    <tr>\n",
       "      <th>887460</th>\n",
       "      <td>Positive</td>\n",
       "      <td>ahaha honestly im even tired suprise woke sooo...</td>\n",
       "    </tr>\n",
       "    <tr>\n",
       "      <th>545899</th>\n",
       "      <td>Negative</td>\n",
       "      <td>wtf goldfish hate keep dying poor</td>\n",
       "    </tr>\n",
       "    <tr>\n",
       "      <th>835785</th>\n",
       "      <td>Positive</td>\n",
       "      <td>serious finish things</td>\n",
       "    </tr>\n",
       "    <tr>\n",
       "      <th>277841</th>\n",
       "      <td>Negative</td>\n",
       "      <td>come think one one tanga ako</td>\n",
       "    </tr>\n",
       "    <tr>\n",
       "      <th>1124354</th>\n",
       "      <td>Positive</td>\n",
       "      <td>started following mind direct messaging tell know</td>\n",
       "    </tr>\n",
       "    <tr>\n",
       "      <th>207038</th>\n",
       "      <td>Negative</td>\n",
       "      <td>sorpor work ah fb</td>\n",
       "    </tr>\n",
       "    <tr>\n",
       "      <th>790388</th>\n",
       "      <td>Negative</td>\n",
       "      <td>nope</td>\n",
       "    </tr>\n",
       "    <tr>\n",
       "      <th>355613</th>\n",
       "      <td>Negative</td>\n",
       "      <td>mhh ladies hostel group mail jealousy still pr...</td>\n",
       "    </tr>\n",
       "    <tr>\n",
       "      <th>453306</th>\n",
       "      <td>Negative</td>\n",
       "      <td>sorry j3ssucka thought taking car</td>\n",
       "    </tr>\n",
       "    <tr>\n",
       "      <th>764739</th>\n",
       "      <td>Negative</td>\n",
       "      <td>jst 1 1 2 yr amp w r feelng sad wht labour los...</td>\n",
       "    </tr>\n",
       "    <tr>\n",
       "      <th>971531</th>\n",
       "      <td>Positive</td>\n",
       "      <td>lovee sissstaa bombb diggity</td>\n",
       "    </tr>\n",
       "    <tr>\n",
       "      <th>57642</th>\n",
       "      <td>Negative</td>\n",
       "      <td>filtered ejournal search computers amp society...</td>\n",
       "    </tr>\n",
       "    <tr>\n",
       "      <th>600890</th>\n",
       "      <td>Negative</td>\n",
       "      <td>uhh someone starved really bad information thi...</td>\n",
       "    </tr>\n",
       "    <tr>\n",
       "      <th>1199976</th>\n",
       "      <td>Positive</td>\n",
       "      <td>baking cookies</td>\n",
       "    </tr>\n",
       "    <tr>\n",
       "      <th>474215</th>\n",
       "      <td>Negative</td>\n",
       "      <td>shit day x</td>\n",
       "    </tr>\n",
       "    <tr>\n",
       "      <th>665689</th>\n",
       "      <td>Negative</td>\n",
       "      <td>know baaaby expecting soooo young baaad person...</td>\n",
       "    </tr>\n",
       "    <tr>\n",
       "      <th>471115</th>\n",
       "      <td>Negative</td>\n",
       "      <td>terminal 5 4 morn officially pooped wifeless d...</td>\n",
       "    </tr>\n",
       "    <tr>\n",
       "      <th>1529317</th>\n",
       "      <td>Positive</td>\n",
       "      <td>new intermediair commercial dutch great fun wo...</td>\n",
       "    </tr>\n",
       "    <tr>\n",
       "      <th>676945</th>\n",
       "      <td>Negative</td>\n",
       "      <td>mad right never trust family</td>\n",
       "    </tr>\n",
       "    <tr>\n",
       "      <th>1423686</th>\n",
       "      <td>Positive</td>\n",
       "      <td>pls follow greetings germany xd</td>\n",
       "    </tr>\n",
       "  </tbody>\n",
       "</table>\n",
       "</div>"
      ],
      "text/plain": [
       "        sentiment                                               text\n",
       "887460   Positive  ahaha honestly im even tired suprise woke sooo...\n",
       "545899   Negative                  wtf goldfish hate keep dying poor\n",
       "835785   Positive                              serious finish things\n",
       "277841   Negative                       come think one one tanga ako\n",
       "1124354  Positive  started following mind direct messaging tell know\n",
       "207038   Negative                                  sorpor work ah fb\n",
       "790388   Negative                                               nope\n",
       "355613   Negative  mhh ladies hostel group mail jealousy still pr...\n",
       "453306   Negative                  sorry j3ssucka thought taking car\n",
       "764739   Negative  jst 1 1 2 yr amp w r feelng sad wht labour los...\n",
       "971531   Positive                       lovee sissstaa bombb diggity\n",
       "57642    Negative  filtered ejournal search computers amp society...\n",
       "600890   Negative  uhh someone starved really bad information thi...\n",
       "1199976  Positive                                     baking cookies\n",
       "474215   Negative                                         shit day x\n",
       "665689   Negative  know baaaby expecting soooo young baaad person...\n",
       "471115   Negative  terminal 5 4 morn officially pooped wifeless d...\n",
       "1529317  Positive  new intermediair commercial dutch great fun wo...\n",
       "676945   Negative                       mad right never trust family\n",
       "1423686  Positive                    pls follow greetings germany xd"
      ]
     },
     "execution_count": 13,
     "metadata": {},
     "output_type": "execute_result"
    }
   ],
   "source": [
    "train_data.head(20)"
   ]
  },
  {
   "cell_type": "code",
   "execution_count": 14,
   "id": "771f612d",
   "metadata": {
    "execution": {
     "iopub.execute_input": "2022-03-04T06:44:26.396027Z",
     "iopub.status.busy": "2022-03-04T06:44:26.395134Z",
     "iopub.status.idle": "2022-03-04T06:44:46.009530Z",
     "shell.execute_reply": "2022-03-04T06:44:46.010077Z",
     "shell.execute_reply.started": "2022-03-04T06:21:16.192764Z"
    },
    "papermill": {
     "duration": 19.652973,
     "end_time": "2022-03-04T06:44:46.010261",
     "exception": false,
     "start_time": "2022-03-04T06:44:26.357288",
     "status": "completed"
    },
    "tags": []
   },
   "outputs": [
    {
     "name": "stdout",
     "output_type": "stream",
     "text": [
      "VOCAB SIZE:  290739\n"
     ]
    }
   ],
   "source": [
    "from keras.preprocessing.text import Tokenizer\n",
    "\n",
    "tokenizer = Tokenizer()\n",
    "tokenizer.fit_on_texts(train_data.text)\n",
    "\n",
    "word_index = tokenizer.word_index\n",
    "vocab_size = len(word_index)\n",
    "print('VOCAB SIZE: ', vocab_size)"
   ]
  },
  {
   "cell_type": "code",
   "execution_count": 15,
   "id": "1eb29f61",
   "metadata": {
    "execution": {
     "iopub.execute_input": "2022-03-04T06:44:46.136806Z",
     "iopub.status.busy": "2022-03-04T06:44:46.121496Z",
     "iopub.status.idle": "2022-03-04T06:45:15.167810Z",
     "shell.execute_reply": "2022-03-04T06:45:15.168395Z",
     "shell.execute_reply.started": "2022-03-04T06:21:50.242183Z"
    },
    "papermill": {
     "duration": 29.124051,
     "end_time": "2022-03-04T06:45:15.168619",
     "exception": false,
     "start_time": "2022-03-04T06:44:46.044568",
     "status": "completed"
    },
    "tags": []
   },
   "outputs": [
    {
     "name": "stdout",
     "output_type": "stream",
     "text": [
      "Training x shape:  (1280000, 30)\n",
      "Testing x shape:  (320000, 30)\n"
     ]
    }
   ],
   "source": [
    "from keras.preprocessing.sequence import pad_sequences\n",
    "\n",
    "x_train = pad_sequences(tokenizer.texts_to_sequences(train_data.text), maxlen = MAX_SEQ_LENGTH)\n",
    "x_test = pad_sequences(tokenizer.texts_to_sequences(test_data.text), maxlen = MAX_SEQ_LENGTH)\n",
    "\n",
    "print('Training x shape: ', x_train.shape)\n",
    "print('Testing x shape: ', x_test.shape)"
   ]
  },
  {
   "cell_type": "code",
   "execution_count": 16,
   "id": "1c0a3e02",
   "metadata": {
    "execution": {
     "iopub.execute_input": "2022-03-04T06:45:15.250121Z",
     "iopub.status.busy": "2022-03-04T06:45:15.236645Z",
     "iopub.status.idle": "2022-03-04T06:45:17.287997Z",
     "shell.execute_reply": "2022-03-04T06:45:17.288707Z",
     "shell.execute_reply.started": "2022-03-04T06:22:33.702823Z"
    },
    "papermill": {
     "duration": 2.087903,
     "end_time": "2022-03-04T06:45:17.288925",
     "exception": false,
     "start_time": "2022-03-04T06:45:15.201022",
     "status": "completed"
    },
    "tags": []
   },
   "outputs": [
    {
     "name": "stdout",
     "output_type": "stream",
     "text": [
      "(1280000,)\n",
      "(320000,)\n"
     ]
    }
   ],
   "source": [
    "encoder = LabelEncoder()\n",
    "encoder.fit(train_data.sentiment.to_list())\n",
    "\n",
    "y_train = encoder.transform(train_data.sentiment.tolist())\n",
    "y_test = encoder.transform(test_data.sentiment.tolist())\n",
    "\n",
    "print(y_train.shape)\n",
    "print(y_test.shape)"
   ]
  },
  {
   "cell_type": "code",
   "execution_count": 17,
   "id": "851d6ca1",
   "metadata": {
    "execution": {
     "iopub.execute_input": "2022-03-04T06:45:17.364890Z",
     "iopub.status.busy": "2022-03-04T06:45:17.364127Z",
     "iopub.status.idle": "2022-03-04T06:45:17.367453Z",
     "shell.execute_reply": "2022-03-04T06:45:17.368073Z",
     "shell.execute_reply.started": "2022-03-04T06:22:50.568841Z"
    },
    "papermill": {
     "duration": 0.043915,
     "end_time": "2022-03-04T06:45:17.368276",
     "exception": false,
     "start_time": "2022-03-04T06:45:17.324361",
     "status": "completed"
    },
    "tags": []
   },
   "outputs": [
    {
     "name": "stdout",
     "output_type": "stream",
     "text": [
      "(1280000, 1)\n",
      "(320000, 1)\n"
     ]
    }
   ],
   "source": [
    "y_train = y_train.reshape(-1,1)\n",
    "y_test = y_test.reshape(-1,1)\n",
    "\n",
    "print(y_train.shape)\n",
    "print(y_test.shape)"
   ]
  },
  {
   "cell_type": "code",
   "execution_count": 18,
   "id": "920f2b24",
   "metadata": {
    "execution": {
     "iopub.execute_input": "2022-03-04T06:45:17.441426Z",
     "iopub.status.busy": "2022-03-04T06:45:17.440499Z",
     "iopub.status.idle": "2022-03-04T06:45:38.887119Z",
     "shell.execute_reply": "2022-03-04T06:45:38.886404Z",
     "shell.execute_reply.started": "2022-03-04T06:31:05.864856Z"
    },
    "papermill": {
     "duration": 21.48423,
     "end_time": "2022-03-04T06:45:38.887261",
     "exception": false,
     "start_time": "2022-03-04T06:45:17.403031",
     "status": "completed"
    },
    "tags": []
   },
   "outputs": [
    {
     "name": "stdout",
     "output_type": "stream",
     "text": [
      "--2022-03-04 06:45:18--  http://nlp.stanford.edu/data/glove.6B.zip\r\n",
      "Resolving nlp.stanford.edu (nlp.stanford.edu)... failed: Temporary failure in name resolution.\r\n",
      "wget: unable to resolve host address ‘nlp.stanford.edu’\r\n",
      "unzip:  cannot find or open glove.6B.zip, glove.6B.zip.zip or glove.6B.zip.ZIP.\r\n"
     ]
    }
   ],
   "source": [
    "!wget http://nlp.stanford.edu/data/glove.6B.zip\n",
    "!unzip glove.6B.zip"
   ]
  },
  {
   "cell_type": "code",
   "execution_count": 19,
   "id": "16195b90",
   "metadata": {
    "execution": {
     "iopub.execute_input": "2022-03-04T06:45:38.959012Z",
     "iopub.status.busy": "2022-03-04T06:45:38.958140Z",
     "iopub.status.idle": "2022-03-04T06:45:38.960533Z",
     "shell.execute_reply": "2022-03-04T06:45:38.960126Z",
     "shell.execute_reply.started": "2022-03-04T06:32:23.166163Z"
    },
    "papermill": {
     "duration": 0.040513,
     "end_time": "2022-03-04T06:45:38.960682",
     "exception": false,
     "start_time": "2022-03-04T06:45:38.920169",
     "status": "completed"
    },
    "tags": []
   },
   "outputs": [],
   "source": [
    "GLOVE_EMB = './glove.6B.300d.txt'\n",
    "EMBEDDING_DIM = 300\n",
    "LR = 1e-3\n",
    "BATCH_SIZE = 1024\n",
    "EPOCHS = 15\n",
    "MODEL_PATH = '.../output/kaggle/working/best_model.hdf5'"
   ]
  },
  {
   "cell_type": "code",
   "execution_count": 20,
   "id": "1b64e1f3",
   "metadata": {
    "execution": {
     "iopub.execute_input": "2022-03-04T06:45:39.032211Z",
     "iopub.status.busy": "2022-03-04T06:45:39.031575Z",
     "iopub.status.idle": "2022-03-04T06:45:39.326624Z",
     "shell.execute_reply": "2022-03-04T06:45:39.326050Z",
     "shell.execute_reply.started": "2022-03-04T06:32:38.027606Z"
    },
    "papermill": {
     "duration": 0.333837,
     "end_time": "2022-03-04T06:45:39.326906",
     "exception": true,
     "start_time": "2022-03-04T06:45:38.993069",
     "status": "failed"
    },
    "tags": []
   },
   "outputs": [
    {
     "ename": "FileNotFoundError",
     "evalue": "[Errno 2] No such file or directory: './glove.6B.300d.txt'",
     "output_type": "error",
     "traceback": [
      "\u001b[0;31m---------------------------------------------------------------------------\u001b[0m",
      "\u001b[0;31mFileNotFoundError\u001b[0m                         Traceback (most recent call last)",
      "\u001b[0;32m/tmp/ipykernel_27/107742026.py\u001b[0m in \u001b[0;36m<module>\u001b[0;34m\u001b[0m\n\u001b[1;32m      1\u001b[0m \u001b[0membeddings_index\u001b[0m \u001b[0;34m=\u001b[0m \u001b[0;34m{\u001b[0m\u001b[0;34m}\u001b[0m\u001b[0;34m\u001b[0m\u001b[0;34m\u001b[0m\u001b[0m\n\u001b[1;32m      2\u001b[0m \u001b[0;34m\u001b[0m\u001b[0m\n\u001b[0;32m----> 3\u001b[0;31m \u001b[0mf\u001b[0m \u001b[0;34m=\u001b[0m \u001b[0mopen\u001b[0m\u001b[0;34m(\u001b[0m\u001b[0mGLOVE_EMB\u001b[0m\u001b[0;34m)\u001b[0m\u001b[0;34m\u001b[0m\u001b[0;34m\u001b[0m\u001b[0m\n\u001b[0m\u001b[1;32m      4\u001b[0m \u001b[0;32mfor\u001b[0m \u001b[0mline\u001b[0m \u001b[0;32min\u001b[0m \u001b[0mf\u001b[0m\u001b[0;34m:\u001b[0m\u001b[0;34m\u001b[0m\u001b[0;34m\u001b[0m\u001b[0m\n\u001b[1;32m      5\u001b[0m     \u001b[0mvalues\u001b[0m \u001b[0;34m=\u001b[0m \u001b[0mline\u001b[0m\u001b[0;34m.\u001b[0m\u001b[0msplit\u001b[0m\u001b[0;34m(\u001b[0m\u001b[0;34m)\u001b[0m\u001b[0;34m\u001b[0m\u001b[0;34m\u001b[0m\u001b[0m\n",
      "\u001b[0;31mFileNotFoundError\u001b[0m: [Errno 2] No such file or directory: './glove.6B.300d.txt'"
     ]
    }
   ],
   "source": [
    "embeddings_index = {}\n",
    "\n",
    "f = open(GLOVE_EMB)\n",
    "for line in f:\n",
    "    values = line.split()\n",
    "    word = value = values[0]\n",
    "    coefs = np.asarray(values[1:], dtype = 'float32')\n",
    "    embeddings_index[word] = coefs\n",
    "f.close()\n",
    "\n",
    "print('Found {} word vectors.'.format(len(embeddings_index)))"
   ]
  },
  {
   "cell_type": "code",
   "execution_count": null,
   "id": "8c4ef857",
   "metadata": {
    "papermill": {
     "duration": null,
     "end_time": null,
     "exception": null,
     "start_time": null,
     "status": "pending"
    },
    "tags": []
   },
   "outputs": [],
   "source": [
    "embedding_matrix = np.zeros((vocab_size, EMBEDDING_DIM))\n",
    "for word, i in word_index.items():\n",
    "  embedding_vector = embeddings_index.get(word)\n",
    "  if embedding_vector is not None:\n",
    "    embedding_matrix[i] = embedding_vector"
   ]
  },
  {
   "cell_type": "code",
   "execution_count": null,
   "id": "d46f7711",
   "metadata": {
    "papermill": {
     "duration": null,
     "end_time": null,
     "exception": null,
     "start_time": null,
     "status": "pending"
    },
    "tags": []
   },
   "outputs": [],
   "source": [
    "embedding_layer = tf.keras.layers.Embedding(vocab_size,\n",
    "                                           EMBEDDING_DIM,\n",
    "                                           weights = [embedding_matrix],\n",
    "                                           input_length = MAX_SEQ_LENGTH,\n",
    "                                           trainable = False)"
   ]
  },
  {
   "cell_type": "code",
   "execution_count": null,
   "id": "4761c8c2",
   "metadata": {
    "papermill": {
     "duration": null,
     "end_time": null,
     "exception": null,
     "start_time": null,
     "status": "pending"
    },
    "tags": []
   },
   "outputs": [],
   "source": [
    "from tensorflow.keras.layers import Conv1D, Bidirectional, LSTM, Dense, Input, Dropout\n",
    "from tensorflow.keras.layers import SpatialDropout1D\n",
    "from tensorflow.keras.callbacks import ModelCheckpoint"
   ]
  },
  {
   "cell_type": "code",
   "execution_count": null,
   "id": "56c60fed",
   "metadata": {
    "papermill": {
     "duration": null,
     "end_time": null,
     "exception": null,
     "start_time": null,
     "status": "pending"
    },
    "tags": []
   },
   "outputs": [],
   "source": [
    "sequence_input = Input(shape = (MAX_SEQ_LENGTH,), dtype = 'int32')\n",
    "embedding_sequences = embedding_layer(sequence_input)\n",
    "x = SpatialDropout1D(0.2)(embedding_sequences)\n",
    "x = Conv1D(64, 5 , activation = 'relu')(x)\n",
    "x = Bidirectional(LSTM(64, dropout = 0.2, recurrent_dropout = 0.2))(x)\n",
    "x = Dense(512,activation = 'relu')(x)\n",
    "x = Dropout(0.5)(x)\n",
    "x = Dense(512, activation = 'relu')(x)\n",
    "outputs = Dense(1, activation = 'sigmoid')(x)\n",
    "model = tf.keras.Model(sequence_input, outputs)"
   ]
  },
  {
   "cell_type": "code",
   "execution_count": null,
   "id": "50ce54e8",
   "metadata": {
    "papermill": {
     "duration": null,
     "end_time": null,
     "exception": null,
     "start_time": null,
     "status": "pending"
    },
    "tags": []
   },
   "outputs": [],
   "source": [
    "from tensorflow.keras.optimizers import Adam\n",
    "from tensorflow.keras.callbacks import ReduceLROnPlateau\n",
    "\n",
    "model.compile(optimizer = Adam(learning_rate = LR), \n",
    "              loss = 'binary_crossentropy',\n",
    "              metrics = ['accuracy'])\n",
    "\n",
    "LR_reduction = ReduceLROnPlateau(factor = 0.1,\n",
    "                                 min_lr = 0.0001,\n",
    "                                 monitor = 'val_loss',\n",
    "                                 verbose = 1)"
   ]
  },
  {
   "cell_type": "code",
   "execution_count": null,
   "id": "4628c673",
   "metadata": {
    "papermill": {
     "duration": null,
     "end_time": null,
     "exception": null,
     "start_time": null,
     "status": "pending"
    },
    "tags": []
   },
   "outputs": [],
   "source": [
    "history = model.fit(x_train,\n",
    "                   y_train,\n",
    "                   batch_size = BATCH_SIZE,\n",
    "                   epochs = EPOCHS,\n",
    "                   validation_data = (x_test,y_test),\n",
    "                   callbacks = [LR_reduction])"
   ]
  },
  {
   "cell_type": "code",
   "execution_count": null,
   "id": "60f32c16",
   "metadata": {
    "papermill": {
     "duration": null,
     "end_time": null,
     "exception": null,
     "start_time": null,
     "status": "pending"
    },
    "tags": []
   },
   "outputs": [],
   "source": [
    "s, (at, al) = plt.subplots(2,1)\n",
    "at.plot(history.history['accuracy'], c= 'b')\n",
    "at.plot(history.history['val_accuracy'], c='r')\n",
    "at.set_title('model accuracy')\n",
    "at.set_ylabel('accuracy')\n",
    "at.set_xlabel('epoch')\n",
    "at.legend(['LSTM_train', 'LSTM_val'], loc='upper left')\n",
    "\n",
    "al.plot(history.history['loss'], c='m')\n",
    "al.plot(history.history['val_loss'], c='c')\n",
    "al.set_title('model loss')\n",
    "al.set_ylabel('loss')\n",
    "al.set_xlabel('epoch')\n",
    "al.legend(['train', 'val'], loc = 'upper left')"
   ]
  },
  {
   "cell_type": "code",
   "execution_count": null,
   "id": "3decfd4c",
   "metadata": {
    "papermill": {
     "duration": null,
     "end_time": null,
     "exception": null,
     "start_time": null,
     "status": "pending"
    },
    "tags": []
   },
   "outputs": [],
   "source": [
    "def decode_sentiment(score):\n",
    "    return \"Positive\" if score>0.5 else \"Negative\"\n",
    "\n",
    "scores = model.predict(x_test, verbose=1, batch_size=10000)\n",
    "y_pred_1d = [decode_sentiment(score) for score in scores]"
   ]
  },
  {
   "cell_type": "code",
   "execution_count": null,
   "id": "c51244c6",
   "metadata": {
    "papermill": {
     "duration": null,
     "end_time": null,
     "exception": null,
     "start_time": null,
     "status": "pending"
    },
    "tags": []
   },
   "outputs": [],
   "source": [
    "import itertools\n",
    "from sklearn.metrics import confusion_matrix, classification_report, accuracy_score\n",
    "def plot_confusion_matrix(cm, classes,\n",
    "                          title='Confusion matrix',\n",
    "                          cmap=plt.cm.Blues):\n",
    "    \"\"\"\n",
    "    This function prints and plots the confusion matrix.\n",
    "    Normalization can be applied by setting `normalize=True`.\n",
    "    \"\"\"\n",
    "\n",
    "    cm = cm.astype('float') / cm.sum(axis=1)[:, np.newaxis]\n",
    "\n",
    "    plt.imshow(cm, interpolation='nearest', cmap=cmap)\n",
    "    plt.title(title, fontsize=20)\n",
    "    plt.colorbar()\n",
    "    tick_marks = np.arange(len(classes))\n",
    "    plt.xticks(tick_marks, classes, fontsize=13)\n",
    "    plt.yticks(tick_marks, classes, fontsize=13)\n",
    "\n",
    "    fmt = '.2f'\n",
    "    thresh = cm.max() / 2.\n",
    "    for i, j in itertools.product(range(cm.shape[0]), range(cm.shape[1])):\n",
    "        plt.text(j, i, format(cm[i, j], fmt),\n",
    "                 horizontalalignment=\"center\",\n",
    "                 color=\"white\" if cm[i, j] > thresh else \"black\")\n",
    "\n",
    "    plt.ylabel('True label', fontsize=17)\n",
    "    plt.xlabel('Predicted label', fontsize=17)"
   ]
  },
  {
   "cell_type": "code",
   "execution_count": null,
   "id": "b4b60e73",
   "metadata": {
    "papermill": {
     "duration": null,
     "end_time": null,
     "exception": null,
     "start_time": null,
     "status": "pending"
    },
    "tags": []
   },
   "outputs": [],
   "source": [
    "cnf_matrix = confusion_matrix(test_data.sentiment.to_list(), y_pred_1d)\n",
    "plt.figure(figsize=(6,6))\n",
    "plot_confusion_matrix(cnf_matrix, classes=test_data.sentiment.unique(), title=\"Confusion matrix\")\n",
    "plt.show()"
   ]
  },
  {
   "cell_type": "code",
   "execution_count": null,
   "id": "41e0dcf8",
   "metadata": {
    "papermill": {
     "duration": null,
     "end_time": null,
     "exception": null,
     "start_time": null,
     "status": "pending"
    },
    "tags": []
   },
   "outputs": [],
   "source": [
    "print(classification_report(list(test_data.sentiment), y_pred_1d))"
   ]
  }
 ],
 "metadata": {
  "kernelspec": {
   "display_name": "Python 3",
   "language": "python",
   "name": "python3"
  },
  "language_info": {
   "codemirror_mode": {
    "name": "ipython",
    "version": 3
   },
   "file_extension": ".py",
   "mimetype": "text/x-python",
   "name": "python",
   "nbconvert_exporter": "python",
   "pygments_lexer": "ipython3",
   "version": "3.7.12"
  },
  "papermill": {
   "default_parameters": {},
   "duration": 174.474304,
   "end_time": "2022-03-04T06:45:42.043405",
   "environment_variables": {},
   "exception": true,
   "input_path": "__notebook__.ipynb",
   "output_path": "__notebook__.ipynb",
   "parameters": {},
   "start_time": "2022-03-04T06:42:47.569101",
   "version": "2.3.3"
  }
 },
 "nbformat": 4,
 "nbformat_minor": 5
}
